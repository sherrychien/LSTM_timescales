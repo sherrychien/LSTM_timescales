{
 "cells": [
  {
   "cell_type": "code",
   "execution_count": 2,
   "metadata": {
    "colab": {
     "base_uri": "https://localhost:8080/"
    },
    "executionInfo": {
     "elapsed": 20254,
     "status": "ok",
     "timestamp": 1606251768945,
     "user": {
      "displayName": "Jinhan Zhang",
      "photoUrl": "",
      "userId": "02395192599978680629"
     },
     "user_tz": 300
    },
    "id": "7vF9nJVeEJOm",
    "outputId": "1f69fb82-1e3c-43f3-beee-2993e2f3b5ae"
   },
   "outputs": [],
   "source": [
    "# from google.colab import drive\n",
    "# drive.mount('/content/drive')\n",
    "\n",
    "# %cd drive/MyDrive/LSTM_timescale/WLSTM/"
   ]
  },
  {
   "cell_type": "code",
   "execution_count": 3,
   "metadata": {
    "ExecuteTime": {
     "end_time": "2020-10-20T09:22:32.968023Z",
     "start_time": "2020-10-20T09:22:32.488072Z"
    },
    "executionInfo": {
     "elapsed": 317,
     "status": "ok",
     "timestamp": 1606252175415,
     "user": {
      "displayName": "Jinhan Zhang",
      "photoUrl": "",
      "userId": "02395192599978680629"
     },
     "user_tz": 300
    },
    "id": "IaPxZcxONAmv"
   },
   "outputs": [
    {
     "name": "stderr",
     "output_type": "stream",
     "text": [
      "[nltk_data] Downloading package punkt to /Users/sherry/nltk_data...\n",
      "[nltk_data]   Package punkt is already up-to-date!\n"
     ]
    }
   ],
   "source": [
    "import sys\n",
    "import time\n",
    "import random\n",
    "import argparse\n",
    "import math\n",
    "import copy\n",
    "\n",
    "from collections import defaultdict\n",
    "import itertools\n",
    "\n",
    "import numpy as np\n",
    "\n",
    "import torch\n",
    "import torch.nn as nn\n",
    "from torch.nn import Parameter\n",
    "\n",
    "import torch.nn.functional as F\n",
    "import torch.optim as optim\n",
    "\n",
    "from sklearn.svm import LinearSVC\n",
    "from sklearn.metrics import accuracy_score\n",
    "from sklearn.utils import shuffle\n",
    "from sklearn.model_selection import train_test_split\n",
    "\n",
    "from nltk.tokenize import sent_tokenize, word_tokenize\n",
    "\n",
    "import nltk\n",
    "nltk.download('punkt')\n",
    "\n",
    "import scipy.stats as stats\n",
    "from statistics import mean\n",
    "\n",
    "from matplotlib.lines import Line2D\n",
    "import matplotlib.pyplot as plt\n",
    "\n",
    "import warnings\n",
    "warnings.filterwarnings('ignore')\n",
    "\n",
    "%matplotlib inline"
   ]
  },
  {
   "cell_type": "code",
   "execution_count": 4,
   "metadata": {
    "ExecuteTime": {
     "end_time": "2020-10-20T08:44:22.119640Z",
     "start_time": "2020-10-20T08:44:21.820695Z"
    },
    "executionInfo": {
     "elapsed": 271,
     "status": "ok",
     "timestamp": 1606251966929,
     "user": {
      "displayName": "Jinhan Zhang",
      "photoUrl": "",
      "userId": "02395192599978680629"
     },
     "user_tz": 300
    },
    "id": "h6nxYd1LNAmw"
   },
   "outputs": [],
   "source": [
    "import argparse\n",
    "import logging\n",
    "import math\n",
    "import time\n",
    "\n",
    "import torch\n",
    "import torch.nn as nn\n",
    "\n",
    "# Utility modules are from (Gulordava et al. 2018)\n",
    "# https://github.com/facebookresearch/colorlessgreenRNNs/tree/master/src/language_models\n",
    "from dictionary_corpus import Corpus\n",
    "from lm_argparser import lm_parser\n",
    "from utils import repackage_hidden, get_batch, batchify\n",
    "import data\n",
    "\n",
    "# Model file is from (Lakretz et al. 2019)\n",
    "# Replace forward function to get hidden/cell/gates informaion\n",
    "# https://github.com/FAIRNS/Number_and_syntax_units_in_LSTM_LMs/tree/master/Code\n",
    "import model\n",
    "import lstm\n",
    "\n",
    "parser = argparse.ArgumentParser(parents=[lm_parser],\n",
    "                                 description=\"Basic training and evaluation for RNN LM\")"
   ]
  },
  {
   "cell_type": "code",
   "execution_count": 5,
   "metadata": {
    "ExecuteTime": {
     "end_time": "2020-10-20T08:44:22.180592Z",
     "start_time": "2020-10-20T08:44:22.120642Z"
    },
    "executionInfo": {
     "elapsed": 329,
     "status": "ok",
     "timestamp": 1606251779671,
     "user": {
      "displayName": "Jinhan Zhang",
      "photoUrl": "",
      "userId": "02395192599978680629"
     },
     "user_tz": 300
    },
    "id": "QqR9Y1HeNAmw"
   },
   "outputs": [],
   "source": [
    "class Dictionary(object):\n",
    "    def __init__(self, path=None):\n",
    "        self.word2idx = {}\n",
    "        self.idx2word = []\n",
    "        if path:\n",
    "            self.load(path)\n",
    "\n",
    "    def add_word(self, word):\n",
    "        if word not in self.word2idx:\n",
    "            self.idx2word.append(word)\n",
    "            self.word2idx[word] = len(self.idx2word) - 1\n",
    "        return self.word2idx[word]\n",
    "\n",
    "    def __len__(self):\n",
    "        return len(self.idx2word)\n",
    "\n",
    "    def load(self, path):\n",
    "        with open(path, 'r', encoding='utf-8') as f:\n",
    "            for line in f:\n",
    "                self.add_word(line.rstrip('\\n'))\n",
    "\n",
    "    def save(self, path):\n",
    "        with open(path, 'w') as f:\n",
    "            for w in self.idx2word:\n",
    "                f.write('{}\\n'.format(w))"
   ]
  },
  {
   "cell_type": "code",
   "execution_count": 6,
   "metadata": {
    "executionInfo": {
     "elapsed": 270,
     "status": "ok",
     "timestamp": 1606251815569,
     "user": {
      "displayName": "Jinhan Zhang",
      "photoUrl": "",
      "userId": "02395192599978680629"
     },
     "user_tz": 300
    },
    "id": "kyp9oofYNAmw"
   },
   "outputs": [],
   "source": [
    "vocab = Dictionary('./data/vocab.txt')"
   ]
  },
  {
   "cell_type": "code",
   "execution_count": 7,
   "metadata": {
    "ExecuteTime": {
     "end_time": "2020-10-20T09:06:37.814772Z",
     "start_time": "2020-10-20T09:06:37.799781Z"
    },
    "executionInfo": {
     "elapsed": 320,
     "status": "ok",
     "timestamp": 1606251828562,
     "user": {
      "displayName": "Jinhan Zhang",
      "photoUrl": "",
      "userId": "02395192599978680629"
     },
     "user_tz": 300
    },
    "id": "3gFDsLBRNAmw"
   },
   "outputs": [],
   "source": [
    "def get_hidden(word_token, model, hidden_init):\n",
    "    criterion = nn.CrossEntropyLoss()\n",
    "    cell = np.zeros((len(word_token),model.nhid*model.nlayers))\n",
    "    hidden = hidden_init\n",
    "    for j, w in enumerate(word_token):\n",
    "        if w not in vocab.word2idx:\n",
    "            w = '<unk>'\n",
    "    \n",
    "        inp = torch.autograd.Variable(torch.LongTensor([[vocab.word2idx[w]]]))\n",
    "        out, hidden = model(inp, hidden)\n",
    "        out = torch.nn.functional.log_softmax(out[0]).unsqueeze(0)\n",
    "        \n",
    "        cell[j,:] = hidden[1].data.view(-1).cpu().numpy()\n",
    "        \n",
    "    return cell\n",
    "\n",
    "def load_novel_chapter(doShuffling=False, file='./data/WLSTM_wiki_test.txt'):\n",
    "    chunks = []\n",
    "    with open(file, \"r\", encoding='utf-8') as inFile:\n",
    "        count = 0\n",
    "        for line in inFile:\n",
    "            count += 1\n",
    "            if count % 500 == 0:\n",
    "                yield \"\".join(chunks)\n",
    "                chunks = []\n",
    "            line_alpha=''.join(e for e in line)\n",
    "            chunks.append(line_alpha.rstrip()+' ')\n",
    "    yield \"\".join(chunks)"
   ]
  },
  {
   "cell_type": "code",
   "execution_count": 8,
   "metadata": {
    "ExecuteTime": {
     "end_time": "2020-10-20T12:23:03.350571Z",
     "start_time": "2020-10-20T12:23:03.327599Z"
    },
    "executionInfo": {
     "elapsed": 364,
     "status": "ok",
     "timestamp": 1606251919347,
     "user": {
      "displayName": "Jinhan Zhang",
      "photoUrl": "",
      "userId": "02395192599978680629"
     },
     "user_tz": 300
    },
    "id": "uSbQ2emRNAmw"
   },
   "outputs": [],
   "source": [
    "# Forward function that return gate units' dynamics and sentence perplexity\n",
    "def get_hidden_sent(sent, model, hidden_init, init_out):\n",
    "    criterion = nn.CrossEntropyLoss()\n",
    "    pp_all=np.array(0)\n",
    "    hidden_sent = np.zeros((len(sent),model.nhid*model.nlayers))\n",
    "    cell_sent = np.zeros((len(sent),model.nhid*model.nlayers))\n",
    "    log_probabilities=np.zeros(len(sent))\n",
    "    out = init_out[-1]\n",
    "    hidden = hidden_init\n",
    "    for j, w in enumerate(sent):\n",
    "        if w not in vocab.word2idx:\n",
    "            w = '<unk>'\n",
    "        log_probabilities[j] = out[0,0,vocab.word2idx[w]].data.item()\n",
    "        inp = torch.autograd.Variable(torch.LongTensor([[vocab.word2idx[w]]]))\n",
    "        out, hidden = model(inp, hidden)\n",
    "        out = torch.nn.functional.log_softmax(out[0]).unsqueeze(0)\n",
    "        \n",
    "        hidden_sent[j,:] = hidden[0].data.view(-1).cpu().numpy() #resize as 1300 (650 for 1st layer + 650 for 2nd layer)\n",
    "        cell_sent[j,:] = hidden[1].data.view(-1).cpu().numpy()\n",
    "        # we can retrieve the gates thanks to the hacked function (Lakretz et al. 2019)\n",
    "        gates_in = torch.cat([g['in'].data for g in model.rnn.last_gates],1).cpu().numpy()\n",
    "        gates_forget = torch.cat([g['forget'].data for g in model.rnn.last_gates],1).cpu().numpy()\n",
    "        gates_out = torch.cat([g['out'].data for g in model.rnn.last_gates],1).cpu().numpy()\n",
    "        gates_c_tilde = torch.cat([g['c_tilde'].data for g in model.rnn.last_gates],1).cpu().numpy()\n",
    "    pp_sent=np.exp(-log_probabilities.mean())\n",
    "    return hidden_sent, cell_sent, pp_sent, gates_in, gates_forget, gates_out, gates_c_tilde"
   ]
  },
  {
   "cell_type": "code",
   "execution_count": 9,
   "metadata": {
    "ExecuteTime": {
     "end_time": "2020-10-20T12:23:11.122548Z",
     "start_time": "2020-10-20T12:23:08.423521Z"
    },
    "executionInfo": {
     "elapsed": 296,
     "status": "ok",
     "timestamp": 1606251922295,
     "user": {
      "displayName": "Jinhan Zhang",
      "photoUrl": "",
      "userId": "02395192599978680629"
     },
     "user_tz": 300
    },
    "id": "RPHXk5iMNAmw",
    "scrolled": true
   },
   "outputs": [],
   "source": [
    "def feed_sentence(model, h, sentence):\n",
    "    outs = []\n",
    "    for w in sentence:\n",
    "        if w not in vocab.word2idx:\n",
    "            w = '<unk>'\n",
    "        out, h = feed_input(model, h, w)\n",
    "        outs.append(torch.nn.functional.log_softmax(out[0]).unsqueeze(0))\n",
    "    return outs, h\n",
    "\n",
    "def feed_input(model, hidden, w):\n",
    "    if w not in vocab.word2idx:\n",
    "        print('unk word: ' + w)\n",
    "        w = '<unk>'\n",
    "    inp = torch.autograd.Variable(torch.LongTensor([[vocab.word2idx[w]]]))\n",
    "    out, hidden = model(inp, hidden)\n",
    "    return out, hidden"
   ]
  },
  {
   "cell_type": "markdown",
   "metadata": {
    "id": "BKkmcPHpNAmw"
   },
   "source": [
    "## Ablation Analysis"
   ]
  },
  {
   "cell_type": "code",
   "execution_count": 11,
   "metadata": {
    "colab": {
     "base_uri": "https://localhost:8080/"
    },
    "executionInfo": {
     "elapsed": 960,
     "status": "ok",
     "timestamp": 1606259473988,
     "user": {
      "displayName": "Jinhan Zhang",
      "photoUrl": "",
      "userId": "02395192599978680629"
     },
     "user_tz": 300
    },
    "id": "dfRyNJ6PNAmw",
    "outputId": "f562b4c4-7c40-48da-a5b1-5b353829c33a"
   },
   "outputs": [
    {
     "name": "stdout",
     "output_type": "stream",
     "text": [
      "Model's state_dict:\n",
      "encoder.weight \t torch.Size([50001, 650])\n",
      "rnn.weight_ih_l0 \t torch.Size([2600, 650])\n",
      "rnn.weight_hh_l0 \t torch.Size([2600, 650])\n",
      "rnn.bias_ih_l0 \t torch.Size([2600])\n",
      "rnn.bias_hh_l0 \t torch.Size([2600])\n",
      "rnn.weight_ih_l1 \t torch.Size([2600, 650])\n",
      "rnn.weight_hh_l1 \t torch.Size([2600, 650])\n",
      "rnn.bias_ih_l1 \t torch.Size([2600])\n",
      "rnn.bias_hh_l1 \t torch.Size([2600])\n",
      "decoder.weight \t torch.Size([50001, 650])\n",
      "decoder.bias \t torch.Size([50001])\n"
     ]
    }
   ],
   "source": [
    "# Reload the model\n",
    "model_pretrained = torch.load('hidden650_batch128_dropout0.2_lr20.0.pt', map_location=torch.device('cpu'))\n",
    "model_pretrained.eval()\n",
    "\n",
    "print(\"Model's state_dict:\")\n",
    "for param_tensor in model_pretrained.state_dict():\n",
    "    print(param_tensor, \"\\t\", model_pretrained.state_dict()[param_tensor].size())\n",
    "\n",
    "# replace forward function to get hidden/cell/gates informaion    \n",
    "model_pretrained.rnn.forward = lambda input, hidden: lstm.forward(model_pretrained.rnn, input, hidden)\n",
    "\n",
    "model_orig_state = copy.deepcopy(model_pretrained.state_dict())"
   ]
  },
  {
   "cell_type": "markdown",
   "metadata": {
    "id": "9mYU5E8uNAmy"
   },
   "source": [
    "### Hyperparamater"
   ]
  },
  {
   "cell_type": "code",
   "execution_count": 12,
   "metadata": {
    "executionInfo": {
     "elapsed": 287,
     "status": "ok",
     "timestamp": 1606259475557,
     "user": {
      "displayName": "Jinhan Zhang",
      "photoUrl": "",
      "userId": "02395192599978680629"
     },
     "user_tz": 300
    },
    "id": "4mx3bZsNNAmy"
   },
   "outputs": [],
   "source": [
    "TRIAL_NUM = 100 # number of text trial\n",
    "TEST_SENT_LEN = 1000 # number of tokens in each text trial\n",
    "\n",
    "CONTROLLERS = [1124, 1182, 1101, 1149, 759, 1189, 940, 1286, 770]\n",
    "INTEGRATORS = [1059, 1289, 667, 774, 801, 883, 959, 1034, 1098, 666]\n",
    "random_units_pool = [e for e in range(650, 1300) if e not in INTEGRATORS and e not in CONTROLLERS]"
   ]
  },
  {
   "cell_type": "code",
   "execution_count": 13,
   "metadata": {
    "colab": {
     "base_uri": "https://localhost:8080/"
    },
    "executionInfo": {
     "elapsed": 264,
     "status": "ok",
     "timestamp": 1606259476679,
     "user": {
      "displayName": "Jinhan Zhang",
      "photoUrl": "",
      "userId": "02395192599978680629"
     },
     "user_tz": 300
    },
    "id": "DDBtHxRnNAmy",
    "outputId": "23e753dd-9668-4136-a25d-1bc1797d274e"
   },
   "outputs": [
    {
     "data": {
      "text/plain": [
       "631"
      ]
     },
     "execution_count": 13,
     "metadata": {},
     "output_type": "execute_result"
    }
   ],
   "source": [
    "len(random_units_pool)"
   ]
  },
  {
   "cell_type": "markdown",
   "metadata": {
    "id": "LIwgkyekNAmy"
   },
   "source": [
    "### Ablation and Evaluation\n",
    "\n",
    "To evaluate the ablation effect, we look at how the model's performance on predicting target words changes. In specific, we measure the differences of probabilities (∆P) assigned to the target words in ablated vs intact models. Tested sentences are selected from the wiki test corpus.\n",
    "\n",
    "Two conditions: \n",
    "\n",
    "1. All-tokens condition: calculate ∆P for all tokens in a sentence\n",
    "\n",
    "2. Final-token condition: calculate ∆P for the token right before the full stop"
   ]
  },
  {
   "cell_type": "code",
   "execution_count": 14,
   "metadata": {
    "executionInfo": {
     "elapsed": 292,
     "status": "ok",
     "timestamp": 1606259478707,
     "user": {
      "displayName": "Jinhan Zhang",
      "photoUrl": "",
      "userId": "02395192599978680629"
     },
     "user_tz": 300
    },
    "id": "_1-BXGkvNAmy"
   },
   "outputs": [],
   "source": [
    "\"\"\"\n",
    "Ablation analysis for a single text-trial\n",
    "\n",
    "`target_units` contain following units groups in order:\n",
    "  [](intact: no units), \n",
    "  interested_units, \n",
    "  random_units (same size as CONTROLLERS)\n",
    "\"\"\"\n",
    "\n",
    "\n",
    "def ablation_study(target_units, test_sentences):\n",
    "    eval_all_interested = [] # all-tokens\n",
    "    eval_final_interested = [] # final-tokens\n",
    "    eval_all_random = []\n",
    "    eval_final_random = []\n",
    "    \n",
    "    prob_diff_intact=[]\n",
    "    prob_diff_interested=[] # interested units ablated\n",
    "    prob_diff_random=[] # random units ablated\n",
    "\n",
    "    for unit_group in target_units:\n",
    "        # restore the model to its original state in case it was ablated\n",
    "        model_pretrained.load_state_dict(model_orig_state)\n",
    "        units_to_kill = unit_group\n",
    "\n",
    "        units_to_kill_l0 = torch.LongTensor(np.array([u for u in units_to_kill if u <650])) # units 1-650 (0-649) in layer 0 (l0)\n",
    "        units_to_kill_l1 = torch.LongTensor(np.array([u-650 for u in units_to_kill if u >649])) # units 651-1300 (650-1299) in layer 1 (l1)\n",
    "\n",
    "        ablation = len(unit_group) > 0\n",
    "        interested_ablated = unit_group == CONTROLLERS or unit_group == INTEGRATORS\n",
    "\n",
    "        if len(unit_group) > 0:\n",
    "            # Kill corresponding weights if list is not empty\n",
    "            if len(units_to_kill_l0)>0: model_pretrained.rnn.weight_hh_l0.data[:, units_to_kill_l0] = 0 # l0: w_hi, w_hf, w_hc, w_ho\n",
    "            if len(units_to_kill_l1)>0: model_pretrained.rnn.weight_hh_l1.data[:, units_to_kill_l1] = 0 # l0: w_hi, w_hf, w_hc, w_ho\n",
    "            # if len(units_to_kill_l0)>0: model.rnn.weight_ih_l0.data[:, units_to_kill_l0] = 0 # l1: w_ii, w_if, w_ic, w_io\n",
    "            # if len(units_to_kill_l1)>0: model.rnn.weight_ih_l1.data[:, units_to_kill_l1] = 0 # l1: w_ii, w_if, w_ic, w_io\n",
    "            # if len(units_to_kill_l0)>0: model.rnn.bias_hh_l0.data[units_to_kill_l0] = 0\n",
    "            # if len(units_to_kill_l1)>0: model.rnn.bias_hh_l1.data[units_to_kill_l1] = 0\n",
    "            # if len(units_to_kill_l0)>0: model.rnn.bias_ih_l0.data[units_to_kill_l0] = 0\n",
    "            # if len(units_to_kill_l1)>0: model.rnn.bias_sm\\ih_l1.data[units_to_kill_l1] = 0\n",
    "            if len(units_to_kill_l1)>0: model_pretrained.decoder.weight.data[:, units_to_kill_l1] = 0\n",
    "        \n",
    "        hidden = model_pretrained.init_hidden(1) \n",
    "        init_out, init_h= feed_sentence(model_pretrained, hidden, test_sentences)\n",
    "\n",
    "        prediction = torch.zeros(len(test_sentences)-1, dtype=torch.int)\n",
    "        target = torch.zeros(len(test_sentences)-1, dtype=torch.int)\n",
    "\n",
    "        for i in range(len(target)):\n",
    "            target[i] = vocab.word2idx[test_sentences[i+1]]\n",
    "            prediction[i] = torch.argmax(init_out[i].detach().squeeze())\n",
    "        \n",
    "        for i in range(len(target)):\n",
    "            target_prob_diff = init_out[i][0,0,target[i]].detach().numpy()\n",
    "            if not ablation:\n",
    "                prob_diff_intact.append(target_prob_diff)\n",
    "            elif interested_ablated:\n",
    "                prob_diff_interested.append(target_prob_diff)\n",
    "            else: \n",
    "                prob_diff_random.append(target_prob_diff)\n",
    "\n",
    "    final_pos=[]\n",
    "    for s in range(len(test_sentences[1:])):\n",
    "        if test_sentences[1:][s] == '.':\n",
    "            final_pos.append(s-1)\n",
    "\n",
    "    # (1) Compare intact and interested-units-ablated model to get ∆P_interested\n",
    "    prob_diff_all_interested = np.exp(prob_diff_interested)-np.exp(prob_diff_intact)\n",
    "    prob_diff_final_interested = prob_diff_all_interested[final_pos]\n",
    "\n",
    "    # (2) Compare intact and random-units-ablated model to get ∆P_random\n",
    "    prob_diff_all_random = np.exp(prob_diff_random)-np.exp(prob_diff_intact)\n",
    "    prob_diff_final_random = prob_diff_all_random[final_pos]\n",
    "\n",
    "    # (3) Measure ∆P in all-tokens and final-token conditions for both ∆P_interested and ∆P_random\n",
    "    eval_all_interested = np.mean(prob_diff_all_interested)\n",
    "    eval_final_interested = np.mean(prob_diff_final_interested)\n",
    "    eval_all_random = np.mean(prob_diff_all_random)\n",
    "    eval_final_random = np.mean(prob_diff_final_random)\n",
    "\n",
    "    return eval_all_interested, eval_final_interested, \\\n",
    "            eval_all_random, eval_final_random"
   ]
  },
  {
   "cell_type": "code",
   "execution_count": 15,
   "metadata": {
    "executionInfo": {
     "elapsed": 510,
     "status": "ok",
     "timestamp": 1606275803763,
     "user": {
      "displayName": "Jinhan Zhang",
      "photoUrl": "",
      "userId": "02395192599978680629"
     },
     "user_tz": 300
    },
    "id": "Tyn_x6FpNAmz"
   },
   "outputs": [],
   "source": [
    "def CI(alpha, data):\n",
    "    CI=stats.norm.interval(alpha, loc=np.mean(data), scale=stats.sem(data))\n",
    "    \n",
    "    return (CI[1]-CI[0])/2"
   ]
  },
  {
   "cell_type": "code",
   "execution_count": 16,
   "metadata": {
    "executionInfo": {
     "elapsed": 227,
     "status": "ok",
     "timestamp": 1606275804090,
     "user": {
      "displayName": "Jinhan Zhang",
      "photoUrl": "",
      "userId": "02395192599978680629"
     },
     "user_tz": 300
    },
    "id": "OGYADBHMNAmz"
   },
   "outputs": [],
   "source": [
    "# function to calculate Cohen's d for independent samples\n",
    "from math import sqrt\n",
    "from numpy import var\n",
    "def cohend(d1, d2):\n",
    "    # calculate the size of samples\n",
    "    n1, n2 = len(d1), len(d2)\n",
    "    # calculate the variance of the samples\n",
    "    s1, s2 = var(d1, ddof=1), var(d2, ddof=1)\n",
    "    # calculate the pooled standard deviation\n",
    "    s = sqrt(((n1 - 1) * s1 + (n2 - 1) * s2) / (n1 + n2 - 2))\n",
    "    # calculate the means of the samples\n",
    "    u1, u2 = mean(d1), mean(d2)\n",
    "    # calculate the effect size\n",
    "    \n",
    "    return (u1 - u2) / s"
   ]
  },
  {
   "cell_type": "markdown",
   "metadata": {
    "id": "RwJ_NKBMNAmy"
   },
   "source": [
    "### Ablate controllers\n"
   ]
  },
  {
   "cell_type": "code",
   "execution_count": 44,
   "metadata": {
    "colab": {
     "base_uri": "https://localhost:8080/"
    },
    "executionInfo": {
     "elapsed": 4142,
     "status": "ok",
     "timestamp": 1606259491668,
     "user": {
      "displayName": "Jinhan Zhang",
      "photoUrl": "",
      "userId": "02395192599978680629"
     },
     "user_tz": 300
    },
    "id": "y_WsS5XMNAmy",
    "outputId": "76a120f2-be09-4765-a616-b539c8b5d138"
   },
   "outputs": [
    {
     "name": "stdout",
     "output_type": "stream",
     "text": [
      "764\n"
     ]
    }
   ],
   "source": [
    "novel_chunks = load_novel_chapter(file=\"./data/test.txt\")\n",
    "novel_chunks = list(novel_chunks)\n",
    "print(len(novel_chunks))"
   ]
  },
  {
   "cell_type": "code",
   "execution_count": 46,
   "metadata": {
    "executionInfo": {
     "elapsed": 5309192,
     "status": "ok",
     "timestamp": 1606264890614,
     "user": {
      "displayName": "Jinhan Zhang",
      "photoUrl": "",
      "userId": "02395192599978680629"
     },
     "user_tz": 300
    },
    "id": "lzhqFsgpNAmy",
    "scrolled": true
   },
   "outputs": [],
   "source": [
    "# controller ablation\n",
    "sample_text=np.random.choice(len(novel_chunks), TRIAL_NUM)\n",
    "controller_p_all=[]\n",
    "controller_p_final=[]\n",
    "random_p_all_1=[]\n",
    "random_p_final_1=[]\n",
    "for ind, i in enumerate(sample_text):\n",
    "    test_sentences = novel_chunks[i].split()[:TEST_SENT_LEN]\n",
    "    \n",
    "    # sample one group of random units for each text trial\n",
    "    random_units = np.random.choice(random_units_pool, len(CONTROLLERS), replace=False).tolist()\n",
    "    target_units = [[], CONTROLLERS, random_units]\n",
    "\n",
    "    results = ablation_study(target_units, test_sentences)\n",
    "    controller_p_all.append(results[0])\n",
    "    controller_p_final.append(results[1])\n",
    "    random_p_all_1.append(results[2])\n",
    "    random_p_final_1.append(results[3])"
   ]
  },
  {
   "cell_type": "code",
   "execution_count": 55,
   "metadata": {
    "colab": {
     "base_uri": "https://localhost:8080/",
     "height": 225
    },
    "executionInfo": {
     "elapsed": 647,
     "status": "ok",
     "timestamp": 1606275652423,
     "user": {
      "displayName": "Jinhan Zhang",
      "photoUrl": "",
      "userId": "02395192599978680629"
     },
     "user_tz": 300
    },
    "id": "KoVgzvjdNAmz",
    "outputId": "9e5c63d8-00bc-45c1-b457-e9ca93e471b7"
   },
   "outputs": [
    {
     "data": {
      "image/png": "[encoded data removed]",
      "text/plain": [
       "<Figure size 504x216 with 2 Axes>"
      ]
     },
     "metadata": {
      "needs_background": "light",
      "tags": []
     },
     "output_type": "display_data"
    }
   ],
   "source": [
    "f, ax = plt.subplots(1,2, figsize=(7,3))\n",
    "ind = 0\n",
    "width = 0.3\n",
    "\n",
    "# ax[0].bar(ind-width, [np.NAN], width, label='Intact model', align='center')\n",
    "ax[0].bar(ind, np.mean(controller_p_final), width, label='controller units ablated',align='center',color = '#ff7f0e',yerr=CI(0.95,controller_p_final))\n",
    "ax[0].bar(ind+width, np.mean(random_p_final_1), width, label='Random units ablated',align='center',color = '#2ca02c',yerr=CI(0.95, random_p_final_1))\n",
    "ax[0].set_ylabel('Lower-prob rate', size=15)\n",
    "ax[0].set_ylim(-0.007,0)\n",
    "\n",
    "\n",
    "ax[0].axes.xaxis.set_visible(False)\n",
    "\n",
    "# ax[1].bar(ind-width, [np.NAN], width, label='Intact model', align='center')\n",
    "ax[1].bar(ind, np.mean(controller_p_all), width, label='controller units ablated',align='center',color = '#ff7f0e',yerr=CI(0.95,controller_p_all))\n",
    "ax[1].bar(ind+width, np.mean(random_p_all_1), width, label='Random units ablated',align='center',color = '#2ca02c',yerr=CI(0.95, random_p_all_1))\n",
    "ax[1].set_ylabel('Higher-prob rate', size=15)\n",
    "ax[1].axes.xaxis.set_visible(False)\n",
    "\n",
    "\n",
    "for i in range(2):\n",
    "    ax[i].tick_params(axis='both', which='major', labelsize=15)\n",
    "\n",
    "    ax[i].spines['right'].set_visible(False)\n",
    "    ax[i].spines['top'].set_visible(False)\n",
    "\n",
    "f.tight_layout()\n",
    "\n",
    "plt.show()"
   ]
  },
  {
   "cell_type": "code",
   "execution_count": 61,
   "metadata": {
    "colab": {
     "base_uri": "https://localhost:8080/"
    },
    "executionInfo": {
     "elapsed": 298,
     "status": "ok",
     "timestamp": 1606275807622,
     "user": {
      "displayName": "Jinhan Zhang",
      "photoUrl": "",
      "userId": "02395192599978680629"
     },
     "user_tz": 300
    },
    "id": "l_ojpW0gNAmz",
    "outputId": "f4e6eafa-d50c-45d2-be25-efe148d3da0d"
   },
   "outputs": [
    {
     "name": "stdout",
     "output_type": "stream",
     "text": [
      "cohend:\t 0.32476735192794404\n"
     ]
    }
   ],
   "source": [
    "import scipy\n",
    "\n",
    "scipy.stats.ttest_ind(controller_p_final,random_p_final_1)\n",
    "print(\"cohend:\\t\", cohend(controller_p_final,random_p_final_1))"
   ]
  },
  {
   "cell_type": "markdown",
   "metadata": {
    "id": "7jmK2H_Xfl33"
   },
   "source": [
    "### Ablate integrators\n"
   ]
  },
  {
   "cell_type": "code",
   "execution_count": 50,
   "metadata": {
    "executionInfo": {
     "elapsed": 5311557,
     "status": "ok",
     "timestamp": 1606273978096,
     "user": {
      "displayName": "Jinhan Zhang",
      "photoUrl": "",
      "userId": "02395192599978680629"
     },
     "user_tz": 300
    },
    "id": "vMGD9gXvEXgr"
   },
   "outputs": [],
   "source": [
    "# integrator ablation\n",
    "integrator_p_all=[]\n",
    "integrator_p_final=[]\n",
    "random_p_all_2=[]\n",
    "random_p_final_2=[]\n",
    "for ind, i in enumerate(sample_text):\n",
    "    test_sentences = novel_chunks[i].split()[:TEST_SENT_LEN]\n",
    "    \n",
    "    # sample one group of random units for each text trial\n",
    "    random_units = np.random.choice(random_units_pool, len(INTEGRATORS), replace=False).tolist()\n",
    "    target_units = [[], INTEGRATORS, random_units]\n",
    "\n",
    "    results = ablation_study(target_units, test_sentences)\n",
    "    integrator_p_all.append(results[0])\n",
    "    integrator_p_final.append(results[1])\n",
    "    random_p_all_2.append(results[2])\n",
    "    random_p_final_2.append(results[3])"
   ]
  },
  {
   "cell_type": "code",
   "execution_count": 56,
   "metadata": {
    "colab": {
     "base_uri": "https://localhost:8080/",
     "height": 225
    },
    "executionInfo": {
     "elapsed": 526,
     "status": "ok",
     "timestamp": 1606275654451,
     "user": {
      "displayName": "Jinhan Zhang",
      "photoUrl": "",
      "userId": "02395192599978680629"
     },
     "user_tz": 300
    },
    "id": "hrJeVvrmNAmz",
    "outputId": "a1c15780-509f-4813-8654-cb8288581a07"
   },
   "outputs": [
    {
     "data": {
      "image/png": "[encoded data removed]",
      "text/plain": [
       "<Figure size 504x216 with 2 Axes>"
      ]
     },
     "metadata": {
      "needs_background": "light",
      "tags": []
     },
     "output_type": "display_data"
    }
   ],
   "source": [
    "f, ax = plt.subplots(1,2, figsize=(7,3))\n",
    "ind = 0\n",
    "width = 0.5\n",
    "\n",
    "# ax[0].bar(ind-width, [np.NAN], width, label='Intact model', align='center')\n",
    "ax[0].bar(ind, np.mean(integrator_p_final), width, label='Integrator units ablated',align='center',color = '#1f77b4',yerr=CI(0.95,integrator_p_final))\n",
    "ax[0].bar(ind+width, np.mean(random_p_final_2), width, label='Random units ablated',align='center',color = '#2ca02c',yerr=CI(0.95, random_p_final_2))\n",
    "ax[0].set_ylabel('Lower-prob rate', size=15)\n",
    "ax[0].axes.xaxis.set_visible(False)\n",
    "# ax[1].bar(ind-width, [np.NAN], width, label='Intact model', align='center')\n",
    "ax[1].bar(ind, np.mean(integrator_p_all), width, label='Integrator units ablated',align='center',color = '#1f77b4',yerr=CI(0.95,integrator_p_all))\n",
    "ax[1].bar(ind+width, np.mean(random_p_all_2), width, label='Random units ablated',align='center',color = '#2ca02c',yerr=CI(0.95, random_p_all_2))\n",
    "ax[1].set_ylabel('Higher-prob rate', size=15)\n",
    "ax[1].axes.xaxis.set_visible(False)\n",
    "ax[1].set_ylim(-0.007,0)\n",
    "\n",
    "\n",
    "for i in range(2):\n",
    "    ax[i].tick_params(axis='both', which='major', labelsize=15)\n",
    "    ax[i].spines['right'].set_visible(False)\n",
    "    ax[i].spines['top'].set_visible(False)\n",
    "\n",
    "f.tight_layout()\n",
    "\n",
    "plt.show()"
   ]
  },
  {
   "cell_type": "code",
   "execution_count": 63,
   "metadata": {
    "colab": {
     "base_uri": "https://localhost:8080/"
    },
    "executionInfo": {
     "elapsed": 268,
     "status": "ok",
     "timestamp": 1606275836257,
     "user": {
      "displayName": "Jinhan Zhang",
      "photoUrl": "",
      "userId": "02395192599978680629"
     },
     "user_tz": 300
    },
    "id": "OGga92LHf9CV",
    "outputId": "0727707d-b4c1-4768-fd7f-04cbbfd95469"
   },
   "outputs": [
    {
     "name": "stdout",
     "output_type": "stream",
     "text": [
      "cohend:\t 0.3973861580724374\n"
     ]
    }
   ],
   "source": [
    "import scipy\n",
    "\n",
    "scipy.stats.ttest_ind(integrator_p_final,random_p_final_2)\n",
    "print(\"cohend:\\t\", cohend(controller_p_final,random_p_final_2))"
   ]
  }
 ],
 "metadata": {
  "colab": {
   "collapsed_sections": [],
   "name": "LSTM_timescale(wiki_ablation).ipynb",
   "provenance": []
  },
  "kernelspec": {
   "display_name": "Python 3",
   "language": "python",
   "name": "python3"
  },
  "language_info": {
   "codemirror_mode": {
    "name": "ipython",
    "version": 3
   },
   "file_extension": ".py",
   "mimetype": "text/x-python",
   "name": "python",
   "nbconvert_exporter": "python",
   "pygments_lexer": "ipython3",
   "version": "3.8.3"
  }
 },
 "nbformat": 4,
 "nbformat_minor": 1
}
